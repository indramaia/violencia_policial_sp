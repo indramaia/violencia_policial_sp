{
 "cells": [
  {
   "cell_type": "markdown",
   "id": "522e1a81",
   "metadata": {
    "ExecuteTime": {
     "end_time": "2021-11-26T20:18:06.914455Z",
     "start_time": "2021-11-26T20:18:06.897461Z"
    },
    "heading_collapsed": true
   },
   "source": [
    "# Import all required libraries and import dataset"
   ]
  },
  {
   "cell_type": "markdown",
   "id": "da43580a",
   "metadata": {
    "hidden": true
   },
   "source": [
    "https://www.prefeitura.sp.gov.br/cidade/secretarias/licenciamento/desenvolvimento_urbano/dados_estatisticos/\n",
    "http://smul.prefeitura.sp.gov.br/criminalidade/\n",
    "ttp://smul.prefeitura.sp.gov.br/contrastes_urbanos/\n",
    "ttps://www.ipea.gov.br/atlasviolencia/"
   ]
  },
  {
   "cell_type": "code",
   "execution_count": 1,
   "id": "8ca8a4d4",
   "metadata": {
    "ExecuteTime": {
     "end_time": "2021-12-09T02:16:50.233467Z",
     "start_time": "2021-12-09T02:16:46.048589Z"
    },
    "hidden": true
   },
   "outputs": [],
   "source": [
    "import pandas as pd\n",
    "import numpy as np\n",
    "import matplotlib.pyplot as plt\n",
    "import seaborn as sns"
   ]
  },
  {
   "cell_type": "code",
   "execution_count": 2,
   "id": "1228d749",
   "metadata": {
    "ExecuteTime": {
     "end_time": "2021-12-09T02:16:53.386840Z",
     "start_time": "2021-12-09T02:16:50.255454Z"
    },
    "hidden": true
   },
   "outputs": [],
   "source": [
    "import scipy\n",
    "import matplotlib.pyplot as plt\n",
    "from sklearn.model_selection import train_test_split\n",
    "from sklearn.linear_model import LinearRegression\n",
    "from sklearn.preprocessing import StandardScaler\n",
    "from sklearn.metrics import mean_squared_error"
   ]
  },
  {
   "cell_type": "code",
   "execution_count": 3,
   "id": "a65c2c9f",
   "metadata": {
    "ExecuteTime": {
     "end_time": "2021-12-09T02:16:59.184198Z",
     "start_time": "2021-12-09T02:16:53.406840Z"
    },
    "hidden": true
   },
   "outputs": [],
   "source": [
    "import dtale"
   ]
  },
  {
   "cell_type": "code",
   "execution_count": 4,
   "id": "22d76a23-d8e0-4407-8d50-0a14eaa3399a",
   "metadata": {
    "ExecuteTime": {
     "end_time": "2021-12-09T02:17:06.214179Z",
     "start_time": "2021-12-09T02:16:59.204217Z"
    },
    "hidden": true
   },
   "outputs": [
    {
     "data": {
      "text/html": [
       "<div>\n",
       "<style scoped>\n",
       "    .dataframe tbody tr th:only-of-type {\n",
       "        vertical-align: middle;\n",
       "    }\n",
       "\n",
       "    .dataframe tbody tr th {\n",
       "        vertical-align: top;\n",
       "    }\n",
       "\n",
       "    .dataframe thead th {\n",
       "        text-align: right;\n",
       "    }\n",
       "</style>\n",
       "<table border=\"1\" class=\"dataframe\">\n",
       "  <thead>\n",
       "    <tr style=\"text-align: right;\">\n",
       "      <th></th>\n",
       "      <th>CIDADE_ELABORACAO</th>\n",
       "      <th>SEC_ELABORACAO</th>\n",
       "      <th>DEP_ELABORACAO</th>\n",
       "      <th>NUM_BO</th>\n",
       "      <th>ANO_BO</th>\n",
       "      <th>DATA_FATO</th>\n",
       "      <th>dia</th>\n",
       "      <th>mês</th>\n",
       "      <th>ano</th>\n",
       "      <th>MÊS OCOR</th>\n",
       "      <th>...</th>\n",
       "      <th>DESCR_TIPOLOCAL</th>\n",
       "      <th>LOGRADOURO</th>\n",
       "      <th>NUMERO_LOGRADOURO</th>\n",
       "      <th>LATITUDE</th>\n",
       "      <th>LONGITUDE</th>\n",
       "      <th>NATUREZAS</th>\n",
       "      <th>CONDUTA</th>\n",
       "      <th>DESDOBRAMENTO</th>\n",
       "      <th>FLAG_VITIMA_FATAL</th>\n",
       "      <th>DATAHORA_REGISTRO_BO</th>\n",
       "    </tr>\n",
       "  </thead>\n",
       "  <tbody>\n",
       "    <tr>\n",
       "      <th>0</th>\n",
       "      <td>S.PAULO</td>\n",
       "      <td>DHPP - DEP. HOM. PROTECAO PESSOA</td>\n",
       "      <td>DHPP</td>\n",
       "      <td>2</td>\n",
       "      <td>2013</td>\n",
       "      <td>2013-01-01 00:00:00</td>\n",
       "      <td>1.0</td>\n",
       "      <td>1.0</td>\n",
       "      <td>2013.0</td>\n",
       "      <td>1</td>\n",
       "      <td>...</td>\n",
       "      <td>Via pública</td>\n",
       "      <td>R LUIS MATHEUS</td>\n",
       "      <td>1</td>\n",
       "      <td>-23.542701</td>\n",
       "      <td>-46.424923</td>\n",
       "      <td>Homicídio simples (art. 121)</td>\n",
       "      <td>NaN</td>\n",
       "      <td>NaN</td>\n",
       "      <td>Sim</td>\n",
       "      <td>2013-01-01 00:00:00</td>\n",
       "    </tr>\n",
       "    <tr>\n",
       "      <th>1</th>\n",
       "      <td>S.PAULO</td>\n",
       "      <td>DHPP - DEP. HOM. PROTECAO PESSOA</td>\n",
       "      <td>DHPP</td>\n",
       "      <td>4</td>\n",
       "      <td>2013</td>\n",
       "      <td>2013-01-01 00:00:00</td>\n",
       "      <td>1.0</td>\n",
       "      <td>1.0</td>\n",
       "      <td>2013.0</td>\n",
       "      <td>1</td>\n",
       "      <td>...</td>\n",
       "      <td>Residência</td>\n",
       "      <td>DA VEDAÇÃO DA DIVULGAÇÃO DOS DADOS RELATIVOS</td>\n",
       "      <td>NaN</td>\n",
       "      <td>NaN</td>\n",
       "      <td>NaN</td>\n",
       "      <td>Resistência (art. 329)</td>\n",
       "      <td>NaN</td>\n",
       "      <td>NaN</td>\n",
       "      <td>Sim</td>\n",
       "      <td>2013-01-01 00:00:00</td>\n",
       "    </tr>\n",
       "    <tr>\n",
       "      <th>2</th>\n",
       "      <td>S.PAULO</td>\n",
       "      <td>DHPP - DEP. HOM. PROTECAO PESSOA</td>\n",
       "      <td>DHPP</td>\n",
       "      <td>6</td>\n",
       "      <td>2013</td>\n",
       "      <td>2013-01-02 00:00:00</td>\n",
       "      <td>2.0</td>\n",
       "      <td>1.0</td>\n",
       "      <td>2013.0</td>\n",
       "      <td>1</td>\n",
       "      <td>...</td>\n",
       "      <td>Residência</td>\n",
       "      <td>DA VEDAÇÃO DA DIVULGAÇÃO DOS DADOS RELATIVOS</td>\n",
       "      <td>NaN</td>\n",
       "      <td>NaN</td>\n",
       "      <td>NaN</td>\n",
       "      <td>Ato Infracional</td>\n",
       "      <td>NaN</td>\n",
       "      <td>NaN</td>\n",
       "      <td>Sim</td>\n",
       "      <td>2013-01-02 00:00:00</td>\n",
       "    </tr>\n",
       "    <tr>\n",
       "      <th>3</th>\n",
       "      <td>BAURU</td>\n",
       "      <td>DEL.SEC.BAURU</td>\n",
       "      <td>DEINTER 4 - BAURU</td>\n",
       "      <td>9</td>\n",
       "      <td>2013</td>\n",
       "      <td>2013-01-30 00:00:00</td>\n",
       "      <td>30.0</td>\n",
       "      <td>1.0</td>\n",
       "      <td>2013.0</td>\n",
       "      <td>1</td>\n",
       "      <td>...</td>\n",
       "      <td>Via pública</td>\n",
       "      <td>R SANTA AGUEDA</td>\n",
       "      <td>96</td>\n",
       "      <td>-22.313722</td>\n",
       "      <td>-49.031686</td>\n",
       "      <td>Homicídio simples (art. 121)</td>\n",
       "      <td>NaN</td>\n",
       "      <td>NaN</td>\n",
       "      <td>Sim</td>\n",
       "      <td>2013-01-31 00:00:00</td>\n",
       "    </tr>\n",
       "    <tr>\n",
       "      <th>4</th>\n",
       "      <td>S.PAULO</td>\n",
       "      <td>DHPP - DEP. HOM. PROTECAO PESSOA</td>\n",
       "      <td>DHPP</td>\n",
       "      <td>9</td>\n",
       "      <td>2013</td>\n",
       "      <td>2013-01-03 00:00:00</td>\n",
       "      <td>3.0</td>\n",
       "      <td>1.0</td>\n",
       "      <td>2013.0</td>\n",
       "      <td>1</td>\n",
       "      <td>...</td>\n",
       "      <td>Via pública</td>\n",
       "      <td>R ORMINDA PINTO VIELA</td>\n",
       "      <td>6</td>\n",
       "      <td>0</td>\n",
       "      <td>0</td>\n",
       "      <td>Resistência (art. 329)</td>\n",
       "      <td>NaN</td>\n",
       "      <td>NaN</td>\n",
       "      <td>Sim</td>\n",
       "      <td>2013-01-03 00:00:00</td>\n",
       "    </tr>\n",
       "    <tr>\n",
       "      <th>...</th>\n",
       "      <td>...</td>\n",
       "      <td>...</td>\n",
       "      <td>...</td>\n",
       "      <td>...</td>\n",
       "      <td>...</td>\n",
       "      <td>...</td>\n",
       "      <td>...</td>\n",
       "      <td>...</td>\n",
       "      <td>...</td>\n",
       "      <td>...</td>\n",
       "      <td>...</td>\n",
       "      <td>...</td>\n",
       "      <td>...</td>\n",
       "      <td>...</td>\n",
       "      <td>...</td>\n",
       "      <td>...</td>\n",
       "      <td>...</td>\n",
       "      <td>...</td>\n",
       "      <td>...</td>\n",
       "      <td>...</td>\n",
       "      <td>...</td>\n",
       "    </tr>\n",
       "    <tr>\n",
       "      <th>6995</th>\n",
       "      <td>ARACATUBA</td>\n",
       "      <td>DEL.SEC.ARACATUBA</td>\n",
       "      <td>DEINTER 10 - ARAÇATUBA</td>\n",
       "      <td>7995</td>\n",
       "      <td>2021</td>\n",
       "      <td>2021-08-30 00:00:00</td>\n",
       "      <td>30.0</td>\n",
       "      <td>8.0</td>\n",
       "      <td>2021.0</td>\n",
       "      <td>8</td>\n",
       "      <td>...</td>\n",
       "      <td>Via Pública</td>\n",
       "      <td>RUA LUIZ PEREIRA BARRETO</td>\n",
       "      <td>76</td>\n",
       "      <td>NaN</td>\n",
       "      <td>NaN</td>\n",
       "      <td>Homicídio simples (art. 121)</td>\n",
       "      <td>NaN</td>\n",
       "      <td>Morte decorrente de intervenção Policial</td>\n",
       "      <td>Sim</td>\n",
       "      <td>2021-08-30 00:00:00</td>\n",
       "    </tr>\n",
       "    <tr>\n",
       "      <th>6996</th>\n",
       "      <td>GUARULHOS</td>\n",
       "      <td>DEL.SEC.GUARULHOS</td>\n",
       "      <td>DEMACRO</td>\n",
       "      <td>4225</td>\n",
       "      <td>2021</td>\n",
       "      <td>2021-08-31 00:00:00</td>\n",
       "      <td>31.0</td>\n",
       "      <td>8.0</td>\n",
       "      <td>2021.0</td>\n",
       "      <td>8</td>\n",
       "      <td>...</td>\n",
       "      <td>Via Pública</td>\n",
       "      <td>RUA PÔRTO VELHO,</td>\n",
       "      <td>890</td>\n",
       "      <td>NaN</td>\n",
       "      <td>NaN</td>\n",
       "      <td>Homicídio simples (art. 121)</td>\n",
       "      <td>NaN</td>\n",
       "      <td>NaN</td>\n",
       "      <td>Sim</td>\n",
       "      <td>2021-09-01 00:00:00</td>\n",
       "    </tr>\n",
       "    <tr>\n",
       "      <th>6997</th>\n",
       "      <td>S.PAULO</td>\n",
       "      <td>DHPP - DEP. HOM. PROTECAO PESSOA</td>\n",
       "      <td>DHPP</td>\n",
       "      <td>342</td>\n",
       "      <td>2021</td>\n",
       "      <td>2021-08-31 00:00:00</td>\n",
       "      <td>31.0</td>\n",
       "      <td>8.0</td>\n",
       "      <td>2021.0</td>\n",
       "      <td>8</td>\n",
       "      <td>...</td>\n",
       "      <td>Residência</td>\n",
       "      <td>DA VEDAÇÃO DA DIVULGAÇÃO DOS DADOS RELATIVOS</td>\n",
       "      <td>NaN</td>\n",
       "      <td>NaN</td>\n",
       "      <td>NaN</td>\n",
       "      <td>Homicídio simples (art. 121)</td>\n",
       "      <td>NaN</td>\n",
       "      <td>Art. 329 - Opor-se à execução de ato legal, me...</td>\n",
       "      <td>Sim</td>\n",
       "      <td>2021-08-31 00:00:00</td>\n",
       "    </tr>\n",
       "    <tr>\n",
       "      <th>6998</th>\n",
       "      <td>S.ANDRE</td>\n",
       "      <td>DEL.SEC.SANTO ANDRÉ</td>\n",
       "      <td>DEMACRO</td>\n",
       "      <td>3053</td>\n",
       "      <td>2021</td>\n",
       "      <td>2021-08-31 00:00:00</td>\n",
       "      <td>31.0</td>\n",
       "      <td>8.0</td>\n",
       "      <td>2021.0</td>\n",
       "      <td>8</td>\n",
       "      <td>...</td>\n",
       "      <td>Via pública</td>\n",
       "      <td>RUA OZANAN</td>\n",
       "      <td>27</td>\n",
       "      <td>-23.632879</td>\n",
       "      <td>-46.52286</td>\n",
       "      <td>Roubo (art. 157), Comunicação de Óbito</td>\n",
       "      <td>OUTROS</td>\n",
       "      <td>NaN</td>\n",
       "      <td>Sim</td>\n",
       "      <td>2021-08-31 00:00:00</td>\n",
       "    </tr>\n",
       "    <tr>\n",
       "      <th>6999</th>\n",
       "      <td>S.PAULO</td>\n",
       "      <td>DEL.SEC.1º CENTRO</td>\n",
       "      <td>DECAP</td>\n",
       "      <td>4759</td>\n",
       "      <td>2021</td>\n",
       "      <td>2021-08-31 00:00:00</td>\n",
       "      <td>31.0</td>\n",
       "      <td>8.0</td>\n",
       "      <td>2021.0</td>\n",
       "      <td>8</td>\n",
       "      <td>...</td>\n",
       "      <td>Via pública</td>\n",
       "      <td>AVENIDA DA LIBERDADE</td>\n",
       "      <td>863</td>\n",
       "      <td>-23.560432</td>\n",
       "      <td>-46.638123</td>\n",
       "      <td>Homicídio simples (art. 121)</td>\n",
       "      <td>INTERIOR ESTABELECIMENTO</td>\n",
       "      <td>Art. 157 - Subtrair coisa móvel alheia, para s...</td>\n",
       "      <td>Sim</td>\n",
       "      <td>2021-08-31 00:00:00</td>\n",
       "    </tr>\n",
       "  </tbody>\n",
       "</table>\n",
       "<p>7000 rows × 36 columns</p>\n",
       "</div>"
      ],
      "text/plain": [
       "     CIDADE_ELABORACAO                    SEC_ELABORACAO  \\\n",
       "0              S.PAULO  DHPP - DEP. HOM. PROTECAO PESSOA   \n",
       "1              S.PAULO  DHPP - DEP. HOM. PROTECAO PESSOA   \n",
       "2              S.PAULO  DHPP - DEP. HOM. PROTECAO PESSOA   \n",
       "3                BAURU                     DEL.SEC.BAURU   \n",
       "4              S.PAULO  DHPP - DEP. HOM. PROTECAO PESSOA   \n",
       "...                ...                               ...   \n",
       "6995         ARACATUBA                 DEL.SEC.ARACATUBA   \n",
       "6996         GUARULHOS                 DEL.SEC.GUARULHOS   \n",
       "6997           S.PAULO  DHPP - DEP. HOM. PROTECAO PESSOA   \n",
       "6998           S.ANDRE               DEL.SEC.SANTO ANDRÉ   \n",
       "6999           S.PAULO                 DEL.SEC.1º CENTRO   \n",
       "\n",
       "              DEP_ELABORACAO NUM_BO  ANO_BO            DATA_FATO   dia  mês  \\\n",
       "0                       DHPP      2    2013  2013-01-01 00:00:00   1.0  1.0   \n",
       "1                       DHPP      4    2013  2013-01-01 00:00:00   1.0  1.0   \n",
       "2                       DHPP      6    2013  2013-01-02 00:00:00   2.0  1.0   \n",
       "3          DEINTER 4 - BAURU      9    2013  2013-01-30 00:00:00  30.0  1.0   \n",
       "4                       DHPP      9    2013  2013-01-03 00:00:00   3.0  1.0   \n",
       "...                      ...    ...     ...                  ...   ...  ...   \n",
       "6995  DEINTER 10 - ARAÇATUBA   7995    2021  2021-08-30 00:00:00  30.0  8.0   \n",
       "6996                 DEMACRO   4225    2021  2021-08-31 00:00:00  31.0  8.0   \n",
       "6997                    DHPP    342    2021  2021-08-31 00:00:00  31.0  8.0   \n",
       "6998                 DEMACRO   3053    2021  2021-08-31 00:00:00  31.0  8.0   \n",
       "6999                   DECAP   4759    2021  2021-08-31 00:00:00  31.0  8.0   \n",
       "\n",
       "         ano  MÊS OCOR  ...  DESCR_TIPOLOCAL  \\\n",
       "0     2013.0         1  ...      Via pública   \n",
       "1     2013.0         1  ...       Residência   \n",
       "2     2013.0         1  ...       Residência   \n",
       "3     2013.0         1  ...      Via pública   \n",
       "4     2013.0         1  ...      Via pública   \n",
       "...      ...       ...  ...              ...   \n",
       "6995  2021.0         8  ...      Via Pública   \n",
       "6996  2021.0         8  ...      Via Pública   \n",
       "6997  2021.0         8  ...       Residência   \n",
       "6998  2021.0         8  ...      Via pública   \n",
       "6999  2021.0         8  ...      Via pública   \n",
       "\n",
       "                                         LOGRADOURO NUMERO_LOGRADOURO  \\\n",
       "0                                    R LUIS MATHEUS                 1   \n",
       "1     DA VEDAÇÃO DA DIVULGAÇÃO DOS DADOS RELATIVOS                NaN   \n",
       "2     DA VEDAÇÃO DA DIVULGAÇÃO DOS DADOS RELATIVOS                NaN   \n",
       "3                                    R SANTA AGUEDA                96   \n",
       "4                             R ORMINDA PINTO VIELA                 6   \n",
       "...                                             ...               ...   \n",
       "6995                       RUA LUIZ PEREIRA BARRETO                76   \n",
       "6996                               RUA PÔRTO VELHO,               890   \n",
       "6997  DA VEDAÇÃO DA DIVULGAÇÃO DOS DADOS RELATIVOS                NaN   \n",
       "6998                                     RUA OZANAN                27   \n",
       "6999                           AVENIDA DA LIBERDADE               863   \n",
       "\n",
       "       LATITUDE  LONGITUDE                               NATUREZAS  \\\n",
       "0    -23.542701 -46.424923            Homicídio simples (art. 121)   \n",
       "1           NaN        NaN                  Resistência (art. 329)   \n",
       "2           NaN        NaN                         Ato Infracional   \n",
       "3    -22.313722 -49.031686            Homicídio simples (art. 121)   \n",
       "4             0          0                  Resistência (art. 329)   \n",
       "...         ...        ...                                     ...   \n",
       "6995        NaN        NaN            Homicídio simples (art. 121)   \n",
       "6996        NaN        NaN            Homicídio simples (art. 121)   \n",
       "6997        NaN        NaN            Homicídio simples (art. 121)   \n",
       "6998 -23.632879  -46.52286  Roubo (art. 157), Comunicação de Óbito   \n",
       "6999 -23.560432 -46.638123            Homicídio simples (art. 121)   \n",
       "\n",
       "                       CONDUTA  \\\n",
       "0                          NaN   \n",
       "1                          NaN   \n",
       "2                          NaN   \n",
       "3                          NaN   \n",
       "4                          NaN   \n",
       "...                        ...   \n",
       "6995                       NaN   \n",
       "6996                       NaN   \n",
       "6997                       NaN   \n",
       "6998                    OUTROS   \n",
       "6999  INTERIOR ESTABELECIMENTO   \n",
       "\n",
       "                                          DESDOBRAMENTO FLAG_VITIMA_FATAL  \\\n",
       "0                                                   NaN               Sim   \n",
       "1                                                   NaN               Sim   \n",
       "2                                                   NaN               Sim   \n",
       "3                                                   NaN               Sim   \n",
       "4                                                   NaN               Sim   \n",
       "...                                                 ...               ...   \n",
       "6995           Morte decorrente de intervenção Policial               Sim   \n",
       "6996                                                NaN               Sim   \n",
       "6997  Art. 329 - Opor-se à execução de ato legal, me...               Sim   \n",
       "6998                                                NaN               Sim   \n",
       "6999  Art. 157 - Subtrair coisa móvel alheia, para s...               Sim   \n",
       "\n",
       "     DATAHORA_REGISTRO_BO  \n",
       "0     2013-01-01 00:00:00  \n",
       "1     2013-01-01 00:00:00  \n",
       "2     2013-01-02 00:00:00  \n",
       "3     2013-01-31 00:00:00  \n",
       "4     2013-01-03 00:00:00  \n",
       "...                   ...  \n",
       "6995  2021-08-30 00:00:00  \n",
       "6996  2021-09-01 00:00:00  \n",
       "6997  2021-08-31 00:00:00  \n",
       "6998  2021-08-31 00:00:00  \n",
       "6999  2021-08-31 00:00:00  \n",
       "\n",
       "[7000 rows x 36 columns]"
      ]
     },
     "execution_count": 4,
     "metadata": {},
     "output_type": "execute_result"
    }
   ],
   "source": [
    "\"\"\"Dataset extracted from http://catalogo.governoaberto.sp.gov.br/dataset/45-infocrim-informacoes-criminais/resource/6e74f774-0a28-40bc-90e3-c267d1f2fc5f\n",
    "Government Open SP is an initiative of the Government of the State of São Paulo, to make available, through the internet, \n",
    "government documents,information and data in the public domain for free use by society\"\"\"\n",
    "\n",
    "df = pd.read_excel('MDIP_2013_2021.xlsx')\n",
    "df"
   ]
  },
  {
   "cell_type": "code",
   "execution_count": 63,
   "id": "f763f6ad",
   "metadata": {
    "ExecuteTime": {
     "end_time": "2021-12-06T06:08:23.511024Z",
     "start_time": "2021-12-06T06:08:23.499035Z"
    },
    "hidden": true
   },
   "outputs": [
    {
     "data": {
      "text/plain": [
       "Index(['CIDADE_ELABORACAO', 'SEC_ELABORACAO', 'DEP_ELABORACAO', 'NUM_BO',\n",
       "       'ANO_BO', 'DATA_FATO', 'dia', 'mês', 'ano', 'MÊS OCOR', 'ANO OCOR',\n",
       "       'DP_ELABORACAO', 'COORPORAÇÃO', 'SITUAÇÃO', 'ID_DELEGACIA',\n",
       "       'MUNICIPIO_CIRC', 'DEPARTAMENTO_\\nCIRC', 'SECCIONAL_CIRC',\n",
       "       'CIRCUNSCRIÇÃO', 'DESCR_TIPO_PESSOA', 'SEXO_PESSOA', 'IDADE_PESSOA',\n",
       "       'COR', 'DATA_NASCIMENTO_PESSOA', 'DESCR_PROFISSAO', 'HORA_FATO',\n",
       "       'DESCR_TIPOLOCAL', 'LOGRADOURO', 'NUMERO_LOGRADOURO', 'LATITUDE',\n",
       "       'LONGITUDE', 'NATUREZAS', 'CONDUTA', 'DESDOBRAMENTO',\n",
       "       'FLAG_VITIMA_FATAL', 'DATAHORA_REGISTRO_BO'],\n",
       "      dtype='object')"
      ]
     },
     "execution_count": 63,
     "metadata": {},
     "output_type": "execute_result"
    }
   ],
   "source": [
    "df.columns"
   ]
  },
  {
   "cell_type": "code",
   "execution_count": 5,
   "id": "a2b2c2f3",
   "metadata": {
    "ExecuteTime": {
     "end_time": "2021-12-09T02:27:05.613664Z",
     "start_time": "2021-12-09T02:27:05.526715Z"
    },
    "hidden": true
   },
   "outputs": [
    {
     "data": {
      "text/plain": [
       "Parda                   3695\n",
       "Branca                  2337\n",
       "Preta                    651\n",
       "Outros                   157\n",
       "NÃO INFORMADO            150\n",
       "REGISTRADO NA PF           4\n",
       "Amarela                    3\n",
       "Branca                     2\n",
       "Parda                      1\n",
       "Name: COR, dtype: int64"
      ]
     },
     "execution_count": 5,
     "metadata": {},
     "output_type": "execute_result"
    }
   ],
   "source": [
    "df['COR'].value_counts()"
   ]
  },
  {
   "cell_type": "markdown",
   "id": "0d72f099",
   "metadata": {
    "heading_collapsed": true
   },
   "source": [
    "# Exploratory Data Analysis"
   ]
  },
  {
   "cell_type": "markdown",
   "id": "0e2767ac",
   "metadata": {
    "heading_collapsed": true,
    "hidden": true
   },
   "source": [
    "### Analise shape, info and targeted columns"
   ]
  },
  {
   "cell_type": "code",
   "execution_count": 65,
   "id": "fa693e10",
   "metadata": {
    "ExecuteTime": {
     "end_time": "2021-12-06T06:08:33.456278Z",
     "start_time": "2021-12-06T06:08:33.440286Z"
    },
    "hidden": true
   },
   "outputs": [
    {
     "data": {
      "text/plain": [
       "(7000, 36)"
      ]
     },
     "execution_count": 65,
     "metadata": {},
     "output_type": "execute_result"
    }
   ],
   "source": [
    "# How many lives and columns I have in the original data\n",
    "df.shape"
   ]
  },
  {
   "cell_type": "code",
   "execution_count": 66,
   "id": "ccbd48c6-b389-4bdf-96b7-04974b7c6588",
   "metadata": {
    "ExecuteTime": {
     "end_time": "2021-12-06T06:08:34.651862Z",
     "start_time": "2021-12-06T06:08:34.577704Z"
    },
    "hidden": true
   },
   "outputs": [
    {
     "name": "stdout",
     "output_type": "stream",
     "text": [
      "<class 'pandas.core.frame.DataFrame'>\n",
      "RangeIndex: 7000 entries, 0 to 6999\n",
      "Data columns (total 36 columns):\n",
      " #   Column                  Non-Null Count  Dtype  \n",
      "---  ------                  --------------  -----  \n",
      " 0   CIDADE_ELABORACAO       7000 non-null   object \n",
      " 1   SEC_ELABORACAO          7000 non-null   object \n",
      " 2   DEP_ELABORACAO          7000 non-null   object \n",
      " 3   NUM_BO                  7000 non-null   object \n",
      " 4   ANO_BO                  7000 non-null   int64  \n",
      " 5   DATA_FATO               7000 non-null   object \n",
      " 6   dia                     6987 non-null   float64\n",
      " 7   mês                     6987 non-null   float64\n",
      " 8   ano                     6987 non-null   float64\n",
      " 9   MÊS OCOR                7000 non-null   int64  \n",
      " 10  ANO OCOR                7000 non-null   int64  \n",
      " 11  DP_ELABORACAO           7000 non-null   object \n",
      " 12  COORPORAÇÃO             7000 non-null   object \n",
      " 13  SITUAÇÃO                7000 non-null   object \n",
      " 14  ID_DELEGACIA            7000 non-null   object \n",
      " 15  MUNICIPIO_CIRC          7000 non-null   object \n",
      " 16  DEPARTAMENTO_\n",
      "CIRC      7000 non-null   object \n",
      " 17  SECCIONAL_CIRC          7000 non-null   object \n",
      " 18  CIRCUNSCRIÇÃO           7000 non-null   object \n",
      " 19  DESCR_TIPO_PESSOA       7000 non-null   object \n",
      " 20  SEXO_PESSOA             7000 non-null   object \n",
      " 21  IDADE_PESSOA            7000 non-null   object \n",
      " 22  COR                     7000 non-null   object \n",
      " 23  DATA_NASCIMENTO_PESSOA  7000 non-null   object \n",
      " 24  DESCR_PROFISSAO         7000 non-null   object \n",
      " 25  HORA_FATO               7000 non-null   object \n",
      " 26  DESCR_TIPOLOCAL         7000 non-null   object \n",
      " 27  LOGRADOURO              7000 non-null   object \n",
      " 28  NUMERO_LOGRADOURO       5975 non-null   object \n",
      " 29  LATITUDE                5852 non-null   object \n",
      " 30  LONGITUDE               5852 non-null   object \n",
      " 31  NATUREZAS               7000 non-null   object \n",
      " 32  CONDUTA                 3233 non-null   object \n",
      " 33  DESDOBRAMENTO           4809 non-null   object \n",
      " 34  FLAG_VITIMA_FATAL       7000 non-null   object \n",
      " 35  DATAHORA_REGISTRO_BO    5940 non-null   object \n",
      "dtypes: float64(3), int64(3), object(30)\n",
      "memory usage: 1.9+ MB\n"
     ]
    }
   ],
   "source": [
    "# A concise summary of our dataframe: including the index and column dtypes, non-null values and memory usage\n",
    "df.info()"
   ]
  },
  {
   "cell_type": "code",
   "execution_count": 67,
   "id": "bdedf5d6-0fe0-4557-bce5-6acf800458d0",
   "metadata": {
    "ExecuteTime": {
     "end_time": "2021-12-06T06:08:35.769280Z",
     "start_time": "2021-12-06T06:08:35.742291Z"
    },
    "hidden": true,
    "tags": []
   },
   "outputs": [
    {
     "data": {
      "text/plain": [
       "Homicídio simples (art. 121)                                                                                                                                                              2494\n",
       "Roubo (art. 157)                                                                                                                                                                           793\n",
       "Homicídio simples (art. 121), Roubo (art. 157)                                                                                                                                             334\n",
       "Homicídio simples (art. 121), Resistência (art. 329)                                                                                                                                       181\n",
       "A.I.-Roubo (art. 157)                                                                                                                                                                      177\n",
       "                                                                                                                                                                                          ... \n",
       "Drogas sem autorização ou em desacordo (Art.33, caput), Homicídio simples (art. 121), Localização/Apreensão de objeto, Posse ou porte ilegal de arma de fogo de uso restrito (Art. 16)       1\n",
       "Homicídio simples (art. 121), Roubo (art. 157), Roubo (art. 157), Localização/Apreensão e Entrega de veículo                                                                                 1\n",
       "Roubo (art. 157), Roubo (art. 157), Roubo (art. 157), Homicídio simples (art. 121), Resistência (art. 329)                                                                                   1\n",
       "Resistência (art. 329), Homicídio simples (art. 121), Porte ilegal de arma de fogo de uso permitido (Art. 14)                                                                                1\n",
       "Roubo (art. 157), Comunicação de Óbito                                                                                                                                                       1\n",
       "Name: NATUREZAS, Length: 710, dtype: int64"
      ]
     },
     "execution_count": 67,
     "metadata": {},
     "output_type": "execute_result"
    }
   ],
   "source": [
    "df['NATUREZAS'].value_counts()"
   ]
  },
  {
   "cell_type": "code",
   "execution_count": 68,
   "id": "a6cf9f38",
   "metadata": {
    "ExecuteTime": {
     "end_time": "2021-12-06T06:08:36.999216Z",
     "start_time": "2021-12-06T06:08:36.986224Z"
    },
    "hidden": true
   },
   "outputs": [
    {
     "data": {
      "text/plain": [
       "Index(['CIDADE_ELABORACAO', 'SEC_ELABORACAO', 'DEP_ELABORACAO', 'NUM_BO',\n",
       "       'ANO_BO', 'DATA_FATO', 'dia', 'mês', 'ano', 'MÊS OCOR', 'ANO OCOR',\n",
       "       'DP_ELABORACAO', 'COORPORAÇÃO', 'SITUAÇÃO', 'ID_DELEGACIA',\n",
       "       'MUNICIPIO_CIRC', 'DEPARTAMENTO_\\nCIRC', 'SECCIONAL_CIRC',\n",
       "       'CIRCUNSCRIÇÃO', 'DESCR_TIPO_PESSOA', 'SEXO_PESSOA', 'IDADE_PESSOA',\n",
       "       'COR', 'DATA_NASCIMENTO_PESSOA', 'DESCR_PROFISSAO', 'HORA_FATO',\n",
       "       'DESCR_TIPOLOCAL', 'LOGRADOURO', 'NUMERO_LOGRADOURO', 'LATITUDE',\n",
       "       'LONGITUDE', 'NATUREZAS', 'CONDUTA', 'DESDOBRAMENTO',\n",
       "       'FLAG_VITIMA_FATAL', 'DATAHORA_REGISTRO_BO'],\n",
       "      dtype='object')"
      ]
     },
     "execution_count": 68,
     "metadata": {},
     "output_type": "execute_result"
    }
   ],
   "source": [
    "df.columns"
   ]
  },
  {
   "cell_type": "code",
   "execution_count": 69,
   "id": "d3dc68ec",
   "metadata": {
    "ExecuteTime": {
     "end_time": "2021-12-06T06:08:38.164525Z",
     "start_time": "2021-12-06T06:08:38.153404Z"
    },
    "hidden": true
   },
   "outputs": [
    {
     "data": {
      "text/plain": [
       "200100    2461\n",
       "40203      125\n",
       "30212      103\n",
       "70942      102\n",
       "120607      92\n",
       "          ... \n",
       "40105        1\n",
       "90627        1\n",
       "280500       1\n",
       "80113        1\n",
       "70212        1\n",
       "Name: ID_DELEGACIA, Length: 554, dtype: int64"
      ]
     },
     "execution_count": 69,
     "metadata": {},
     "output_type": "execute_result"
    }
   ],
   "source": [
    "df['ID_DELEGACIA'].value_counts()"
   ]
  },
  {
   "cell_type": "code",
   "execution_count": 83,
   "id": "82b7f2d6",
   "metadata": {
    "ExecuteTime": {
     "end_time": "2021-12-06T06:16:51.115156Z",
     "start_time": "2021-12-06T06:16:51.093744Z"
    },
    "hidden": true
   },
   "outputs": [
    {
     "data": {
      "text/plain": [
       "Masculino           6935\n",
       "NÃO INFORMADO         34\n",
       "Feminino              25\n",
       "REGISTRADO NA PF       4\n",
       "Indefinido             2\n",
       "Name: SEXO, dtype: int64"
      ]
     },
     "execution_count": 83,
     "metadata": {},
     "output_type": "execute_result"
    }
   ],
   "source": [
    "# A summary with information regarding the sex of the victims\n",
    "df['SEXO'].value_counts()"
   ]
  },
  {
   "cell_type": "code",
   "execution_count": 84,
   "id": "b8bfc88b",
   "metadata": {
    "ExecuteTime": {
     "end_time": "2021-12-06T06:16:54.656387Z",
     "start_time": "2021-12-06T06:16:54.628391Z"
    },
    "hidden": true
   },
   "outputs": [
    {
     "data": {
      "text/plain": [
       "LATITUDE     1148\n",
       "LONGITUDE    1148\n",
       "dtype: int64"
      ]
     },
     "execution_count": 84,
     "metadata": {},
     "output_type": "execute_result"
    }
   ],
   "source": [
    "df[['LATITUDE', 'LONGITUDE']].isnull().sum()"
   ]
  },
  {
   "cell_type": "code",
   "execution_count": 88,
   "id": "51aee21f",
   "metadata": {
    "ExecuteTime": {
     "end_time": "2021-12-06T06:17:04.941319Z",
     "start_time": "2021-12-06T06:17:04.923328Z"
    },
    "hidden": true
   },
   "outputs": [
    {
     "data": {
      "text/plain": [
       "10                  1\n",
       "57                  1\n",
       "68                  1\n",
       "65                  1\n",
       "63                  1\n",
       "                 ... \n",
       "20                390\n",
       "19                402\n",
       "17                439\n",
       "18                473\n",
       "NÃO INFORMADO    1581\n",
       "Name: IDADE, Length: 63, dtype: int64"
      ]
     },
     "execution_count": 88,
     "metadata": {},
     "output_type": "execute_result"
    }
   ],
   "source": [
    "# A summary with information regarding the victim's age\n",
    "pd.set_option(\"display.max_rows\", 50)\n",
    "df['IDADE'].value_counts().sort_values()"
   ]
  },
  {
   "cell_type": "code",
   "execution_count": null,
   "id": "793b5129",
   "metadata": {
    "ExecuteTime": {
     "end_time": "2021-12-06T06:16:56.264081Z",
     "start_time": "2021-12-06T06:16:55.783Z"
    },
    "hidden": true
   },
   "outputs": [],
   "source": [
    "# Information of homicide victims by year\n",
    "df['ano'].value_counts()"
   ]
  },
  {
   "cell_type": "code",
   "execution_count": 86,
   "id": "86d06e94",
   "metadata": {
    "ExecuteTime": {
     "end_time": "2021-12-06T06:16:56.430992Z",
     "start_time": "2021-12-06T06:16:56.415991Z"
    },
    "hidden": true
   },
   "outputs": [
    {
     "data": {
      "text/plain": [
       "Parda                   3695\n",
       "Branca                  2337\n",
       "Preta                    651\n",
       "Outros                   157\n",
       "NÃO INFORMADO            150\n",
       "REGISTRADO NA PF           4\n",
       "Amarela                    3\n",
       "Branca                     2\n",
       "Parda                      1\n",
       "Name: COR, dtype: int64"
      ]
     },
     "execution_count": 86,
     "metadata": {},
     "output_type": "execute_result"
    }
   ],
   "source": [
    "# Information regarding the Racial profile of the victims \n",
    "df['COR'].value_counts()"
   ]
  },
  {
   "cell_type": "code",
   "execution_count": null,
   "id": "6a61ad5a-ae11-4335-9482-10f70a118f3d",
   "metadata": {
    "ExecuteTime": {
     "end_time": "2021-12-06T06:08:39.639185Z",
     "start_time": "2021-12-06T06:08:39.241Z"
    },
    "hidden": true
   },
   "outputs": [],
   "source": [
    "df['COR'].isnull().sum()"
   ]
  },
  {
   "cell_type": "code",
   "execution_count": 71,
   "id": "06d5356f-2217-4fe6-94aa-5f746fe4415d",
   "metadata": {
    "ExecuteTime": {
     "end_time": "2021-12-06T06:08:39.782102Z",
     "start_time": "2021-12-06T06:08:39.767114Z"
    },
    "hidden": true
   },
   "outputs": [
    {
     "data": {
      "text/plain": [
       "3767"
      ]
     },
     "execution_count": 71,
     "metadata": {},
     "output_type": "execute_result"
    }
   ],
   "source": [
    "# Checking the amount of null values in the 'CONDUTA' column\n",
    "df['CONDUTA'].isnull().sum()"
   ]
  },
  {
   "cell_type": "code",
   "execution_count": 72,
   "id": "ffc45c7a-3856-4d76-b0c5-5b32d01fface",
   "metadata": {
    "ExecuteTime": {
     "end_time": "2021-12-06T06:08:41.084639Z",
     "start_time": "2021-12-06T06:08:41.072648Z"
    },
    "hidden": true
   },
   "outputs": [
    {
     "data": {
      "text/plain": [
       "2191"
      ]
     },
     "execution_count": 72,
     "metadata": {},
     "output_type": "execute_result"
    }
   ],
   "source": [
    "# Checking the amount of null values in the 'DESDOBRAMENTO' column\n",
    "df['DESDOBRAMENTO'].isnull().sum()"
   ]
  },
  {
   "cell_type": "code",
   "execution_count": 73,
   "id": "18c478c2",
   "metadata": {
    "ExecuteTime": {
     "end_time": "2021-12-06T06:08:42.328168Z",
     "start_time": "2021-12-06T06:08:42.300183Z"
    },
    "hidden": true
   },
   "outputs": [
    {
     "data": {
      "text/plain": [
       "Lesão corporal decorrente de intervenção policial (Res. SSP 05/2013),                                                                                                                                                                                                                                                                                                                  1807\n",
       "Morte decorrente de intervenção policial (RES. SSP 05 - 07/01/2013)                                                                                                                                                                                                                                                                                                                    1154\n",
       "Lesão corporal decorrente de i,                                                                                                                                                                                                                                                                                                                                                         616\n",
       "Art. 329 - Opor-se à execução de ato legal, mediante violência ou ameaça a funcionário competente para executá-lo ou a quem lhe esteja prestando auxílio:&#x0D; Pena - detenção, de 2 (dois) meses a 2 (dois) anos.&#x0D; ,Lesão corporal decorrente de intervenção policial (Res. SSP 05/2013),                                                                                        171\n",
       "Art. 157 - Subtrair coisa móvel alheia, para si ou para outrem, mediante grave ameaça ou violência a pessoa, ou depois de havê-la, por qualquer meio, reduzido à impossibilidade de resistência:&#x0D; Pena - reclusão, de 4 (quatro) a 10 (dez) anos, e multa.&#x0D; ,Lesão corporal decorrente de intervenção policial (Res. SSP 05/2013),                                            121\n",
       "                                                                                                                                                                                                                                                                                                                                                                                       ... \n",
       "I - mediante paga ou promessa de recompensa, ou por outro motivo torpe,Lesão corporal decorrente de intervenção policial (Res. SSP 05/2013),                                                                                                                                                                                                                                              1\n",
       "Art. 311 - Adulterar ou remarcar número de chassi ou qualquer sinal identificador de veículo automotor, de seu componente ou equipamento: (Redação dada pela Lei nº 9.426, de 24.12.1996)&#x0D; Pena - reclusão, de 3 (três) a 6 (seis) anos, e multa. (Redação dada pela Lei nº 9.426, de 24.12.1996)&#x0D; ,Lesão corporal decorrente de intervenção policial (Res. SSP 05/2013),       1\n",
       "caput. Subtrair coisa móvel alheia, mediante grave ameaça ou violência a pessoa,Lesão corporal decorrente de intervenção policial (RES. SSP 05 - 07/01/2013),Lesão corporal decorrente de intervenção policial (Res. SSP 05/2013),                                                                                                                                                        1\n",
       "§ 3º Se da violência resulta morte, a reclusão é de 20 (vinte) a 30 (trinta) anos, sem prejuízo da multa. (Redação dada pela Lei nº 9.426, de 24.12.1996)&#x0D; &#x0D; ,Lesão corporal decorrente de intervenção policial (Res. SSP 05/2013),Nas mesmas penas incorrem quem (Par. único)&#x00;,                                                                                           1\n",
       "APLICATIVO DE MOBILIDADE URBANA                                                                                                                                                                                                                                                                                                                                                           1\n",
       "Name: DESDOBRAMENTO, Length: 173, dtype: int64"
      ]
     },
     "execution_count": 73,
     "metadata": {},
     "output_type": "execute_result"
    }
   ],
   "source": [
    "# Analise values in 'DESDOBRAMENTO' column\n",
    "df['DESDOBRAMENTO'].value_counts()"
   ]
  },
  {
   "cell_type": "markdown",
   "id": "190b781f",
   "metadata": {
    "heading_collapsed": true,
    "hidden": true
   },
   "source": [
    "### Rename columns and select targeted columns"
   ]
  },
  {
   "cell_type": "code",
   "execution_count": 74,
   "id": "f0e1e40c",
   "metadata": {
    "ExecuteTime": {
     "end_time": "2021-12-06T06:08:43.421214Z",
     "start_time": "2021-12-06T06:08:43.407679Z"
    },
    "hidden": true
   },
   "outputs": [],
   "source": [
    "# Renaming of some our columns\n",
    "df.rename(columns = {'CIDADE_ELABORACAO': 'CIDADE'}, inplace = True)\n",
    "df.rename(columns = {'SEXO_PESSOA': 'SEXO'}, inplace = True)\n",
    "df.rename(columns = {'IDADE_PESSOA': 'IDADE'}, inplace = True)\n",
    "df.rename(columns = {'ANO OCOR': 'ANO'}, inplace = True)"
   ]
  },
  {
   "cell_type": "code",
   "execution_count": 75,
   "id": "69aded51-3058-479b-b0d9-d071776677e6",
   "metadata": {
    "ExecuteTime": {
     "end_time": "2021-12-06T06:08:44.510515Z",
     "start_time": "2021-12-06T06:08:44.465568Z"
    },
    "hidden": true,
    "scrolled": false
   },
   "outputs": [
    {
     "data": {
      "text/html": [
       "<div>\n",
       "<style scoped>\n",
       "    .dataframe tbody tr th:only-of-type {\n",
       "        vertical-align: middle;\n",
       "    }\n",
       "\n",
       "    .dataframe tbody tr th {\n",
       "        vertical-align: top;\n",
       "    }\n",
       "\n",
       "    .dataframe thead th {\n",
       "        text-align: right;\n",
       "    }\n",
       "</style>\n",
       "<table border=\"1\" class=\"dataframe\">\n",
       "  <thead>\n",
       "    <tr style=\"text-align: right;\">\n",
       "      <th></th>\n",
       "      <th>ANO</th>\n",
       "      <th>CIDADE</th>\n",
       "      <th>NATUREZAS</th>\n",
       "      <th>COR</th>\n",
       "      <th>SEXO</th>\n",
       "      <th>IDADE</th>\n",
       "    </tr>\n",
       "  </thead>\n",
       "  <tbody>\n",
       "    <tr>\n",
       "      <th>0</th>\n",
       "      <td>2013</td>\n",
       "      <td>S.PAULO</td>\n",
       "      <td>Homicídio simples (art. 121)</td>\n",
       "      <td>Branca</td>\n",
       "      <td>Masculino</td>\n",
       "      <td>20</td>\n",
       "    </tr>\n",
       "    <tr>\n",
       "      <th>1</th>\n",
       "      <td>2013</td>\n",
       "      <td>S.PAULO</td>\n",
       "      <td>Resistência (art. 329)</td>\n",
       "      <td>Parda</td>\n",
       "      <td>Masculino</td>\n",
       "      <td>25</td>\n",
       "    </tr>\n",
       "    <tr>\n",
       "      <th>2</th>\n",
       "      <td>2013</td>\n",
       "      <td>S.PAULO</td>\n",
       "      <td>Ato Infracional</td>\n",
       "      <td>Branca</td>\n",
       "      <td>Masculino</td>\n",
       "      <td>NÃO INFORMADO</td>\n",
       "    </tr>\n",
       "    <tr>\n",
       "      <th>3</th>\n",
       "      <td>2013</td>\n",
       "      <td>BAURU</td>\n",
       "      <td>Homicídio simples (art. 121)</td>\n",
       "      <td>Branca</td>\n",
       "      <td>Masculino</td>\n",
       "      <td>18</td>\n",
       "    </tr>\n",
       "    <tr>\n",
       "      <th>4</th>\n",
       "      <td>2013</td>\n",
       "      <td>S.PAULO</td>\n",
       "      <td>Resistência (art. 329)</td>\n",
       "      <td>Parda</td>\n",
       "      <td>Masculino</td>\n",
       "      <td>17</td>\n",
       "    </tr>\n",
       "    <tr>\n",
       "      <th>...</th>\n",
       "      <td>...</td>\n",
       "      <td>...</td>\n",
       "      <td>...</td>\n",
       "      <td>...</td>\n",
       "      <td>...</td>\n",
       "      <td>...</td>\n",
       "    </tr>\n",
       "    <tr>\n",
       "      <th>6995</th>\n",
       "      <td>2021</td>\n",
       "      <td>ARACATUBA</td>\n",
       "      <td>Homicídio simples (art. 121)</td>\n",
       "      <td>Branca</td>\n",
       "      <td>Masculino</td>\n",
       "      <td>NÃO INFORMADO</td>\n",
       "    </tr>\n",
       "    <tr>\n",
       "      <th>6996</th>\n",
       "      <td>2021</td>\n",
       "      <td>GUARULHOS</td>\n",
       "      <td>Homicídio simples (art. 121)</td>\n",
       "      <td>Parda</td>\n",
       "      <td>Masculino</td>\n",
       "      <td>17</td>\n",
       "    </tr>\n",
       "    <tr>\n",
       "      <th>6997</th>\n",
       "      <td>2021</td>\n",
       "      <td>S.PAULO</td>\n",
       "      <td>Homicídio simples (art. 121)</td>\n",
       "      <td>Branca</td>\n",
       "      <td>Masculino</td>\n",
       "      <td>31</td>\n",
       "    </tr>\n",
       "    <tr>\n",
       "      <th>6998</th>\n",
       "      <td>2021</td>\n",
       "      <td>S.ANDRE</td>\n",
       "      <td>Roubo (art. 157), Comunicação de Óbito</td>\n",
       "      <td>Parda</td>\n",
       "      <td>Masculino</td>\n",
       "      <td>21</td>\n",
       "    </tr>\n",
       "    <tr>\n",
       "      <th>6999</th>\n",
       "      <td>2021</td>\n",
       "      <td>S.PAULO</td>\n",
       "      <td>Homicídio simples (art. 121)</td>\n",
       "      <td>NÃO INFORMADO</td>\n",
       "      <td>Masculino</td>\n",
       "      <td>NÃO INFORMADO</td>\n",
       "    </tr>\n",
       "  </tbody>\n",
       "</table>\n",
       "<p>7000 rows × 6 columns</p>\n",
       "</div>"
      ],
      "text/plain": [
       "       ANO     CIDADE                               NATUREZAS            COR  \\\n",
       "0     2013    S.PAULO            Homicídio simples (art. 121)         Branca   \n",
       "1     2013    S.PAULO                  Resistência (art. 329)          Parda   \n",
       "2     2013    S.PAULO                         Ato Infracional         Branca   \n",
       "3     2013      BAURU            Homicídio simples (art. 121)         Branca   \n",
       "4     2013    S.PAULO                  Resistência (art. 329)          Parda   \n",
       "...    ...        ...                                     ...            ...   \n",
       "6995  2021  ARACATUBA            Homicídio simples (art. 121)         Branca   \n",
       "6996  2021  GUARULHOS            Homicídio simples (art. 121)          Parda   \n",
       "6997  2021    S.PAULO            Homicídio simples (art. 121)         Branca   \n",
       "6998  2021    S.ANDRE  Roubo (art. 157), Comunicação de Óbito          Parda   \n",
       "6999  2021    S.PAULO            Homicídio simples (art. 121)  NÃO INFORMADO   \n",
       "\n",
       "           SEXO          IDADE  \n",
       "0     Masculino             20  \n",
       "1     Masculino             25  \n",
       "2     Masculino  NÃO INFORMADO  \n",
       "3     Masculino             18  \n",
       "4     Masculino             17  \n",
       "...         ...            ...  \n",
       "6995  Masculino  NÃO INFORMADO  \n",
       "6996  Masculino             17  \n",
       "6997  Masculino             31  \n",
       "6998  Masculino             21  \n",
       "6999  Masculino  NÃO INFORMADO  \n",
       "\n",
       "[7000 rows x 6 columns]"
      ]
     },
     "execution_count": 75,
     "metadata": {},
     "output_type": "execute_result"
    }
   ],
   "source": [
    "# Selection of the columns we will be working on\n",
    "df1 = df[['ANO', 'CIDADE', 'NATUREZAS','COR', 'SEXO', 'IDADE']]\n",
    "df1"
   ]
  },
  {
   "cell_type": "code",
   "execution_count": 76,
   "id": "de988a44",
   "metadata": {
    "ExecuteTime": {
     "end_time": "2021-12-06T06:08:45.774011Z",
     "start_time": "2021-12-06T06:08:45.762019Z"
    },
    "hidden": true
   },
   "outputs": [
    {
     "data": {
      "text/plain": [
       "Parda                   3695\n",
       "Branca                  2337\n",
       "Preta                    651\n",
       "Outros                   157\n",
       "NÃO INFORMADO            150\n",
       "REGISTRADO NA PF           4\n",
       "Amarela                    3\n",
       "Branca                     2\n",
       "Parda                      1\n",
       "Name: COR, dtype: int64"
      ]
     },
     "execution_count": 76,
     "metadata": {},
     "output_type": "execute_result"
    }
   ],
   "source": [
    "df['COR'].value_counts()"
   ]
  },
  {
   "cell_type": "markdown",
   "id": "6d89567b",
   "metadata": {
    "heading_collapsed": true,
    "hidden": true
   },
   "source": [
    "### Creating new variables for analysis"
   ]
  },
  {
   "cell_type": "code",
   "execution_count": 77,
   "id": "24d63f4b-3a1f-4056-9e69-3cf56346d2ab",
   "metadata": {
    "ExecuteTime": {
     "end_time": "2021-12-06T06:08:46.907553Z",
     "start_time": "2021-12-06T06:08:46.879546Z"
    },
    "hidden": true
   },
   "outputs": [
    {
     "data": {
      "text/plain": [
       "3013"
      ]
     },
     "execution_count": 77,
     "metadata": {},
     "output_type": "execute_result"
    }
   ],
   "source": [
    "# Creating a variable 'sao_paulo' and then checking its lenght, that is the amount of homicides only in S.Paulo city\n",
    "sao_paulo = df1[df1['CIDADE'].str.contains(\"S.PAULO\")]\n",
    "len(sao_paulo.index)"
   ]
  },
  {
   "cell_type": "code",
   "execution_count": 78,
   "id": "50ba2553-645c-4990-b9f5-d1f4636a17ed",
   "metadata": {
    "ExecuteTime": {
     "end_time": "2021-12-06T06:08:48.061586Z",
     "start_time": "2021-12-06T06:08:48.034600Z"
    },
    "hidden": true,
    "tags": []
   },
   "outputs": [
    {
     "data": {
      "text/plain": [
       "867"
      ]
     },
     "execution_count": 78,
     "metadata": {},
     "output_type": "execute_result"
    }
   ],
   "source": [
    "# Creating a variable 'sp_ano2019' that receives the column 'ANO' and year 2019 and then we check its lenght, that is the amount of homicides IN 2019 in our dataset\n",
    "sp_ano2019 = df1.loc[df1['ANO'] == 2019]\n",
    "len(sp_ano2019.index)"
   ]
  },
  {
   "cell_type": "code",
   "execution_count": 79,
   "id": "a14b5abb-8b80-4f1e-ad3e-dd7031daa749",
   "metadata": {
    "ExecuteTime": {
     "end_time": "2021-12-06T06:08:49.224845Z",
     "start_time": "2021-12-06T06:08:49.197861Z"
    },
    "hidden": true
   },
   "outputs": [
    {
     "data": {
      "text/plain": [
       "Parda               448\n",
       "Branca              304\n",
       "Preta                80\n",
       "NÃO INFORMADO        30\n",
       "REGISTRADO NA PF      3\n",
       "Amarela               2\n",
       "Name: COR, dtype: int64"
      ]
     },
     "execution_count": 79,
     "metadata": {},
     "output_type": "execute_result"
    }
   ],
   "source": [
    "# Checking the racial profile of people killed in 2019\n",
    "sp_ano2019['COR'].value_counts()"
   ]
  },
  {
   "cell_type": "code",
   "execution_count": 80,
   "id": "19b546d8-1357-4876-b0a2-69edf903754e",
   "metadata": {
    "ExecuteTime": {
     "end_time": "2021-12-06T06:08:50.587639Z",
     "start_time": "2021-12-06T06:08:50.542733Z"
    },
    "hidden": true,
    "tags": []
   },
   "outputs": [
    {
     "data": {
      "text/plain": [
       "1246"
      ]
     },
     "execution_count": 80,
     "metadata": {},
     "output_type": "execute_result"
    }
   ],
   "source": [
    "# Creating a variable 'resistência' that receives the column 'NATUREZAS' and the rows in it that contains the word \"Resistência\" and then we check its lenght, that is the amount of homicides in our dataframe \n",
    "# that the police declared it to be caused by the victim's resistance\n",
    "resistência = df[df['NATUREZAS'].str.contains(\"Resistência\")]\n",
    "len(resistência.index)"
   ]
  },
  {
   "cell_type": "code",
   "execution_count": 81,
   "id": "4478971c-8eca-4bac-ac5c-5a331214c909",
   "metadata": {
    "ExecuteTime": {
     "end_time": "2021-12-06T06:08:52.337720Z",
     "start_time": "2021-12-06T06:08:52.310734Z"
    },
    "hidden": true
   },
   "outputs": [
    {
     "data": {
      "text/plain": [
       "172"
      ]
     },
     "execution_count": 81,
     "metadata": {},
     "output_type": "execute_result"
    }
   ],
   "source": [
    "# Creating a variable 'resistência2019' that receives the column 'NATUREZAS' and the rows in it that contains the word \"Resistência\" in 2019 and then we check its lenght, that is the amount of homicides in our dataframe \n",
    "# that the police declared it to be caused by the victim's resistance in 2019\n",
    "resistência2019 = sp_ano2019[sp_ano2019['NATUREZAS'].str.contains(\"Resistência\")]\n",
    "len(resistência2019.index)"
   ]
  },
  {
   "cell_type": "code",
   "execution_count": null,
   "id": "2ecffef7-b61c-4ed4-99d5-c9806d3a710b",
   "metadata": {
    "ExecuteTime": {
     "end_time": "2021-12-04T19:12:57.018568Z",
     "start_time": "2021-12-04T19:12:07.713Z"
    },
    "hidden": true
   },
   "outputs": [],
   "source": [
    "# Checking the racial profile of victims in the city of Sao Paulo\n",
    "sao_paulo['COR'].value_counts()"
   ]
  },
  {
   "cell_type": "markdown",
   "id": "de204c8f",
   "metadata": {
    "heading_collapsed": true
   },
   "source": [
    "# Encoding our columns to facilitate linear regression"
   ]
  },
  {
   "cell_type": "code",
   "execution_count": 89,
   "id": "68735d8e",
   "metadata": {
    "ExecuteTime": {
     "end_time": "2021-12-06T06:17:27.339045Z",
     "start_time": "2021-12-06T06:17:27.215774Z"
    },
    "hidden": true
   },
   "outputs": [],
   "source": [
    "# Encoding some of our columns\n",
    "for column in df1:\n",
    "    if df1[column].dtype == 'object':\n",
    "        df1[column] = df1[column].astype('category')\n",
    "        df1[column + '_cat'] = df1[column].cat.codes"
   ]
  },
  {
   "cell_type": "code",
   "execution_count": 90,
   "id": "4201e3be-c8c0-466d-8027-198bc799e622",
   "metadata": {
    "ExecuteTime": {
     "end_time": "2021-12-06T06:17:28.753571Z",
     "start_time": "2021-12-06T06:17:28.729549Z"
    },
    "hidden": true
   },
   "outputs": [],
   "source": [
    "df2 = df1[['CIDADE_cat', 'COR_cat', 'SEXO_cat', 'IDADE_cat']]"
   ]
  },
  {
   "cell_type": "code",
   "execution_count": 91,
   "id": "6580e8f9-f7cc-4a0d-bc6f-1f8438783874",
   "metadata": {
    "ExecuteTime": {
     "end_time": "2021-12-06T06:17:30.218802Z",
     "start_time": "2021-12-06T06:17:30.162623Z"
    },
    "hidden": true
   },
   "outputs": [
    {
     "data": {
      "text/html": [
       "<div>\n",
       "<style scoped>\n",
       "    .dataframe tbody tr th:only-of-type {\n",
       "        vertical-align: middle;\n",
       "    }\n",
       "\n",
       "    .dataframe tbody tr th {\n",
       "        vertical-align: top;\n",
       "    }\n",
       "\n",
       "    .dataframe thead th {\n",
       "        text-align: right;\n",
       "    }\n",
       "</style>\n",
       "<table border=\"1\" class=\"dataframe\">\n",
       "  <thead>\n",
       "    <tr style=\"text-align: right;\">\n",
       "      <th></th>\n",
       "      <th>CIDADE_cat</th>\n",
       "      <th>COR_cat</th>\n",
       "      <th>SEXO_cat</th>\n",
       "      <th>IDADE_cat</th>\n",
       "    </tr>\n",
       "  </thead>\n",
       "  <tbody>\n",
       "    <tr>\n",
       "      <th>0</th>\n",
       "      <td>243</td>\n",
       "      <td>1</td>\n",
       "      <td>2</td>\n",
       "      <td>10</td>\n",
       "    </tr>\n",
       "    <tr>\n",
       "      <th>1</th>\n",
       "      <td>243</td>\n",
       "      <td>5</td>\n",
       "      <td>2</td>\n",
       "      <td>15</td>\n",
       "    </tr>\n",
       "    <tr>\n",
       "      <th>2</th>\n",
       "      <td>243</td>\n",
       "      <td>1</td>\n",
       "      <td>2</td>\n",
       "      <td>61</td>\n",
       "    </tr>\n",
       "    <tr>\n",
       "      <th>3</th>\n",
       "      <td>26</td>\n",
       "      <td>1</td>\n",
       "      <td>2</td>\n",
       "      <td>8</td>\n",
       "    </tr>\n",
       "    <tr>\n",
       "      <th>4</th>\n",
       "      <td>243</td>\n",
       "      <td>5</td>\n",
       "      <td>2</td>\n",
       "      <td>7</td>\n",
       "    </tr>\n",
       "    <tr>\n",
       "      <th>...</th>\n",
       "      <td>...</td>\n",
       "      <td>...</td>\n",
       "      <td>...</td>\n",
       "      <td>...</td>\n",
       "    </tr>\n",
       "    <tr>\n",
       "      <th>6995</th>\n",
       "      <td>8</td>\n",
       "      <td>1</td>\n",
       "      <td>2</td>\n",
       "      <td>61</td>\n",
       "    </tr>\n",
       "    <tr>\n",
       "      <th>6996</th>\n",
       "      <td>94</td>\n",
       "      <td>5</td>\n",
       "      <td>2</td>\n",
       "      <td>7</td>\n",
       "    </tr>\n",
       "    <tr>\n",
       "      <th>6997</th>\n",
       "      <td>243</td>\n",
       "      <td>1</td>\n",
       "      <td>2</td>\n",
       "      <td>21</td>\n",
       "    </tr>\n",
       "    <tr>\n",
       "      <th>6998</th>\n",
       "      <td>227</td>\n",
       "      <td>5</td>\n",
       "      <td>2</td>\n",
       "      <td>11</td>\n",
       "    </tr>\n",
       "    <tr>\n",
       "      <th>6999</th>\n",
       "      <td>243</td>\n",
       "      <td>3</td>\n",
       "      <td>2</td>\n",
       "      <td>61</td>\n",
       "    </tr>\n",
       "  </tbody>\n",
       "</table>\n",
       "<p>7000 rows × 4 columns</p>\n",
       "</div>"
      ],
      "text/plain": [
       "      CIDADE_cat  COR_cat  SEXO_cat  IDADE_cat\n",
       "0            243        1         2         10\n",
       "1            243        5         2         15\n",
       "2            243        1         2         61\n",
       "3             26        1         2          8\n",
       "4            243        5         2          7\n",
       "...          ...      ...       ...        ...\n",
       "6995           8        1         2         61\n",
       "6996          94        5         2          7\n",
       "6997         243        1         2         21\n",
       "6998         227        5         2         11\n",
       "6999         243        3         2         61\n",
       "\n",
       "[7000 rows x 4 columns]"
      ]
     },
     "execution_count": 91,
     "metadata": {},
     "output_type": "execute_result"
    }
   ],
   "source": [
    "df2"
   ]
  },
  {
   "cell_type": "markdown",
   "id": "acc35e62",
   "metadata": {
    "heading_collapsed": true
   },
   "source": [
    "# Visualizations "
   ]
  },
  {
   "cell_type": "code",
   "execution_count": 100,
   "id": "74aed0d1-d227-4393-b48c-f72eada062fd",
   "metadata": {
    "ExecuteTime": {
     "end_time": "2021-12-06T06:20:10.320197Z",
     "start_time": "2021-12-06T06:20:08.028474Z"
    },
    "hidden": true
   },
   "outputs": [
    {
     "data": {
      "text/plain": [
       "(0.0, 7281.75)"
      ]
     },
     "execution_count": 100,
     "metadata": {},
     "output_type": "execute_result"
    }
   ],
   "source": [
    "# Draw a Line Plot to depict the relationship between the continuous variable (ANO)  and the number of lines in each year (ANO), that is the number of homicides in each year\n",
    "sns.set_style(\"darkgrid\", {\"grid.color\": \".6\", \"grid.linestyle\": \":\"})\n",
    "sns.lineplot(x= df1['ANO'].value_counts().index, y=df1['ANO'].value_counts())\n",
    "plt.ylim(0)"
   ]
  },
  {
   "cell_type": "code",
   "execution_count": 101,
   "id": "1aec6dad-96df-4cf1-9171-749203237137",
   "metadata": {
    "ExecuteTime": {
     "end_time": "2021-12-06T06:20:12.878805Z",
     "start_time": "2021-12-06T06:20:12.446050Z"
    },
    "hidden": true
   },
   "outputs": [],
   "source": [
    "# get correlations\n",
    "df_corr = df.corr()\n",
    "np.ones_like(df_corr, dtype=np.bool)\n",
    "mask = np.triu(np.ones_like(df_corr, dtype=np.bool))\n",
    "\n",
    "#Plot using suplots\n",
    "fig, ax = plt.subplots(figsize=(10, 8))\n",
    "# mask\n",
    "mask = np.triu(np.ones_like(df_corr, dtype=np.bool))\n",
    "# adjust mask and df\n",
    "mask = mask[1:, :-1]\n",
    "corr = df_corr.iloc[1:,:-1].copy()\n",
    "# plot heatmap\n",
    "sns.heatmap(corr, mask=mask, annot=True, fmt=\".2f\", cmap='Pastel1_r',\n",
    "           vmin=-1, vmax=1, cbar_kws={\"shrink\": .8})\n",
    "# yticks\n",
    "plt.yticks(rotation=0)\n",
    "plt.show()"
   ]
  },
  {
   "cell_type": "code",
   "execution_count": 94,
   "id": "568bc167",
   "metadata": {
    "ExecuteTime": {
     "end_time": "2021-12-06T06:17:44.528404Z",
     "start_time": "2021-12-06T06:17:35.532841Z"
    },
    "hidden": true
   },
   "outputs": [],
   "source": [
    "x= sns.pairplot(df1)"
   ]
  },
  {
   "cell_type": "code",
   "execution_count": 95,
   "id": "b1b952fe",
   "metadata": {
    "ExecuteTime": {
     "end_time": "2021-12-06T06:17:46.292520Z",
     "start_time": "2021-12-06T06:17:46.252027Z"
    },
    "hidden": true
   },
   "outputs": [
    {
     "ename": "NameError",
     "evalue": "name 'profile' is not defined",
     "output_type": "error",
     "traceback": [
      "\u001b[1;31m---------------------------------------------------------------------------\u001b[0m",
      "\u001b[1;31mNameError\u001b[0m                                 Traceback (most recent call last)",
      "\u001b[1;32m<ipython-input-95-7988c391187e>\u001b[0m in \u001b[0;36m<module>\u001b[1;34m\u001b[0m\n\u001b[1;32m----> 1\u001b[1;33m \u001b[0mprofile\u001b[0m\u001b[1;33m.\u001b[0m\u001b[0mto_file\u001b[0m\u001b[1;33m(\u001b[0m\u001b[1;34m\"your_report.html\"\u001b[0m\u001b[1;33m)\u001b[0m\u001b[1;33m\u001b[0m\u001b[1;33m\u001b[0m\u001b[0m\n\u001b[0m",
      "\u001b[1;31mNameError\u001b[0m: name 'profile' is not defined"
     ]
    }
   ],
   "source": [
    "profile.to_file(\"your_report.html\")"
   ]
  },
  {
   "cell_type": "code",
   "execution_count": null,
   "id": "5cff36f6",
   "metadata": {
    "ExecuteTime": {
     "end_time": "2021-12-06T06:17:46.331499Z",
     "start_time": "2021-12-06T06:17:36.404Z"
    },
    "hidden": true
   },
   "outputs": [],
   "source": [
    "# Use D-Tale, a combination of a Flask back-end and a React front-end to bring you an easy way to view & analyze Pandas data structures and open it in your browser\n",
    "d = dtale.show(df)\n",
    "d.open_browser()"
   ]
  },
  {
   "cell_type": "code",
   "execution_count": null,
   "id": "ae5f5440",
   "metadata": {
    "ExecuteTime": {
     "end_time": "2021-12-06T06:17:46.376991Z",
     "start_time": "2021-12-06T06:17:37.359Z"
    },
    "hidden": true
   },
   "outputs": [],
   "source": [
    "nan_mask = addresses['LATITUDE'].isnull()\n",
    "addresses[~nan_mask]"
   ]
  },
  {
   "cell_type": "code",
   "execution_count": null,
   "id": "58b0f426",
   "metadata": {
    "ExecuteTime": {
     "end_time": "2021-12-06T06:17:46.410498Z",
     "start_time": "2021-12-06T06:17:37.960Z"
    },
    "hidden": true
   },
   "outputs": [],
   "source": [
    "import folium\n",
    "import pandas as pd"
   ]
  },
  {
   "cell_type": "code",
   "execution_count": null,
   "id": "79e25bd2",
   "metadata": {
    "ExecuteTime": {
     "end_time": "2021-12-06T06:17:46.442483Z",
     "start_time": "2021-12-06T06:17:38.672Z"
    },
    "hidden": true
   },
   "outputs": [],
   "source": [
    "m = folium.Map(location=[-23.5505,-46.6333], zoom_start=14)\n",
    "m"
   ]
  },
  {
   "cell_type": "code",
   "execution_count": null,
   "id": "4831a63e",
   "metadata": {
    "ExecuteTime": {
     "end_time": "2021-12-06T06:17:46.471466Z",
     "start_time": "2021-12-06T06:17:39.909Z"
    },
    "hidden": true
   },
   "outputs": [],
   "source": [
    "addresses = pd.read_csv('address_coords.csv', sep=',')"
   ]
  },
  {
   "cell_type": "code",
   "execution_count": null,
   "id": "8815f47d",
   "metadata": {
    "ExecuteTime": {
     "end_time": "2021-12-06T06:17:46.502448Z",
     "start_time": "2021-12-06T06:17:40.634Z"
    },
    "hidden": true
   },
   "outputs": [],
   "source": [
    "regioes = pd.read_excel('vertices_regioes_sao_paulo.xls')\n",
    "regioes"
   ]
  },
  {
   "cell_type": "code",
   "execution_count": null,
   "id": "ca3a22da",
   "metadata": {
    "ExecuteTime": {
     "end_time": "2021-12-06T06:17:46.526442Z",
     "start_time": "2021-12-06T06:17:41.509Z"
    },
    "hidden": true
   },
   "outputs": [],
   "source": [
    "regioes['NOME']=='Leste'"
   ]
  },
  {
   "cell_type": "code",
   "execution_count": null,
   "id": "ff66b280",
   "metadata": {
    "ExecuteTime": {
     "end_time": "2021-12-06T06:17:46.548426Z",
     "start_time": "2021-12-06T06:17:42.249Z"
    },
    "hidden": true
   },
   "outputs": [],
   "source": [
    "regioes[regioes['NOME']=='Leste']"
   ]
  },
  {
   "cell_type": "code",
   "execution_count": null,
   "id": "bd5476a2",
   "metadata": {
    "ExecuteTime": {
     "end_time": "2021-12-06T06:17:46.573406Z",
     "start_time": "2021-12-06T06:17:42.968Z"
    },
    "hidden": true
   },
   "outputs": [],
   "source": [
    "from turfpy.measurement import boolean_point_in_polygon\n",
    "from geojson import Point, Polygon, Feature"
   ]
  },
  {
   "cell_type": "code",
   "execution_count": null,
   "id": "5be8df32",
   "metadata": {
    "ExecuteTime": {
     "end_time": "2021-12-06T06:17:46.596393Z",
     "start_time": "2021-12-06T06:17:43.522Z"
    },
    "hidden": true
   },
   "outputs": [],
   "source": [
    "rec_array = regioes[regioes['NOME']=='Leste'][['POINT_X', 'POINT_Y']].to_records(index = False).tolist()\n",
    "rec_array"
   ]
  },
  {
   "cell_type": "code",
   "execution_count": null,
   "id": "ba67f8b3",
   "metadata": {
    "ExecuteTime": {
     "end_time": "2021-12-06T06:17:46.623384Z",
     "start_time": "2021-12-06T06:17:44.192Z"
    },
    "hidden": true
   },
   "outputs": [],
   "source": [
    "pol_rec_array = Polygon([rec_array])\n",
    "pol_rec_array"
   ]
  },
  {
   "cell_type": "markdown",
   "id": "89892d71",
   "metadata": {
    "heading_collapsed": true
   },
   "source": [
    "# Further EDA\n"
   ]
  },
  {
   "cell_type": "markdown",
   "id": "6786cafb",
   "metadata": {
    "hidden": true
   },
   "source": [
    "## Group by explicative variables "
   ]
  },
  {
   "cell_type": "code",
   "execution_count": null,
   "id": "c183357a",
   "metadata": {
    "ExecuteTime": {
     "end_time": "2021-12-04T19:12:57.080533Z",
     "start_time": "2021-12-04T19:12:07.838Z"
    },
    "hidden": true
   },
   "outputs": [],
   "source": [
    "df.columns"
   ]
  },
  {
   "cell_type": "code",
   "execution_count": null,
   "id": "7c7fad94",
   "metadata": {
    "ExecuteTime": {
     "end_time": "2021-12-04T19:12:57.082532Z",
     "start_time": "2021-12-04T19:12:07.844Z"
    },
    "hidden": true
   },
   "outputs": [],
   "source": [
    "# Creating a new dataframe only with the columns we will be analysing\n",
    "df_group = df[['SEXO','COR','SECCIONAL_CIRC', 'IDADE']]\n",
    "df_group"
   ]
  },
  {
   "cell_type": "markdown",
   "id": "0a8d1ce9",
   "metadata": {
    "heading_collapsed": true,
    "hidden": true
   },
   "source": [
    "### Group by age"
   ]
  },
  {
   "cell_type": "code",
   "execution_count": null,
   "id": "86f5d3f2",
   "metadata": {
    "ExecuteTime": {
     "end_time": "2021-12-04T19:12:57.085529Z",
     "start_time": "2021-12-04T19:12:07.855Z"
    },
    "hidden": true
   },
   "outputs": [],
   "source": [
    "# Creating a new column 'idade_num' in order to separate the values incorrectly filled with \"Registrado na PF\" instead of the victim's age\n",
    "df_group['idade_num'] = np.where(df_group['IDADE'] == 'NÃO INFORMADO', -1,\n",
    "                                 np.where(df_group['IDADE'] == 'REGISTRADO NA PF', -1, df_group['IDADE']))\n",
    "df_group"
   ]
  },
  {
   "cell_type": "code",
   "execution_count": null,
   "id": "2649428c",
   "metadata": {
    "ExecuteTime": {
     "end_time": "2021-12-04T19:12:57.087527Z",
     "start_time": "2021-12-04T19:12:07.864Z"
    },
    "hidden": true
   },
   "outputs": [],
   "source": [
    "# Changing the data type of our column to int\n",
    "df_group['idade_num'] = df_group['idade_num'].astype(int)"
   ]
  },
  {
   "cell_type": "code",
   "execution_count": null,
   "id": "cde242d9",
   "metadata": {
    "ExecuteTime": {
     "end_time": "2021-12-04T19:12:57.093524Z",
     "start_time": "2021-12-04T19:12:07.874Z"
    },
    "hidden": true
   },
   "outputs": [],
   "source": [
    "# Checking the 'IDADE'column\n",
    "df_group['IDADE'].value_counts()"
   ]
  },
  {
   "cell_type": "code",
   "execution_count": null,
   "id": "cf6a72ee",
   "metadata": {
    "ExecuteTime": {
     "end_time": "2021-12-04T19:12:57.109519Z",
     "start_time": "2021-12-04T19:12:07.885Z"
    },
    "code_folding": [],
    "hidden": true
   },
   "outputs": [],
   "source": [
    "# Creating a new column 'idades' that contain different age groups \n",
    "df_group['idades'] = np.where(df_group['idade_num'] == -1, 'NI', \n",
    "         np.where(df_group['idade_num'] <= 18, 'Menor de idade', \n",
    "                  np.where(df_group['idade_num'] <= 59, 'Adulto',\n",
    "                           np.where(df_group['idade_num'] <= 100, 'Idoso', 'Ancião'))))"
   ]
  },
  {
   "cell_type": "code",
   "execution_count": null,
   "id": "105d3ae3",
   "metadata": {
    "ExecuteTime": {
     "end_time": "2021-12-04T19:12:57.113514Z",
     "start_time": "2021-12-04T19:12:07.894Z"
    },
    "hidden": true
   },
   "outputs": [],
   "source": [
    "# Checking the quantity of people killed by the police by\n",
    "age group\n",
    "df_group['idades'].value_counts()"
   ]
  },
  {
   "cell_type": "markdown",
   "id": "c96798f4",
   "metadata": {
    "ExecuteTime": {
     "end_time": "2021-11-29T02:21:55.875708Z",
     "start_time": "2021-11-29T02:21:55.856694Z"
    },
    "heading_collapsed": true,
    "hidden": true
   },
   "source": [
    "### Group by racial profile"
   ]
  },
  {
   "cell_type": "code",
   "execution_count": null,
   "id": "2e04352b",
   "metadata": {
    "ExecuteTime": {
     "end_time": "2021-12-04T19:12:57.116515Z",
     "start_time": "2021-12-04T19:12:07.903Z"
    },
    "hidden": true
   },
   "outputs": [],
   "source": [
    "# Checking the racial profile of people killed\n",
    "df_group['COR'].value_counts()"
   ]
  },
  {
   "cell_type": "code",
   "execution_count": null,
   "id": "6d9e245f",
   "metadata": {
    "ExecuteTime": {
     "end_time": "2021-12-04T19:12:57.119514Z",
     "start_time": "2021-12-04T19:12:07.909Z"
    },
    "hidden": true
   },
   "outputs": [],
   "source": [
    "# Creating a new column 'perfil_racial' that contain 2 different racial profiles (black and not black)\n",
    "df_group['perfil_racial'] = np.where(df_group['COR'] == 'Preta', 'Negro', \n",
    "         np.where(df_group['COR'] == 'Parda', 'Negro', \n",
    "                  np.where(df_group['COR'] == 'REGISTRADO NA PF', 'NÃO INFORMADO', \n",
    "                           np.where(df_group['COR'] == 'Outros', 'NÃO INFORMADO',\n",
    "                                    np.where(df_group['COR'] == 'NÃO INFORMADO', 'NÃO INFORMADO','Não negro')))))"
   ]
  },
  {
   "cell_type": "code",
   "execution_count": null,
   "id": "baec631e",
   "metadata": {
    "ExecuteTime": {
     "end_time": "2021-12-04T19:12:57.124506Z",
     "start_time": "2021-12-04T19:12:07.920Z"
    },
    "hidden": true
   },
   "outputs": [],
   "source": [
    "df_group"
   ]
  },
  {
   "cell_type": "code",
   "execution_count": null,
   "id": "11b39cfd",
   "metadata": {
    "ExecuteTime": {
     "end_time": "2021-12-04T19:12:57.127506Z",
     "start_time": "2021-12-04T19:12:07.928Z"
    },
    "hidden": true
   },
   "outputs": [],
   "source": [
    "df_group['perfil_racial'].value_counts()"
   ]
  },
  {
   "cell_type": "code",
   "execution_count": null,
   "id": "1998ea59",
   "metadata": {
    "ExecuteTime": {
     "end_time": "2021-12-04T19:12:57.130503Z",
     "start_time": "2021-12-04T19:12:07.938Z"
    },
    "hidden": true
   },
   "outputs": [],
   "source": [
    "# Creating a new data frame with \n",
    "df_f = df_group.groupby(['SEXO','COR','SECCIONAL_CIRC', 'idades']).size().reset_index()\n",
    "df_f"
   ]
  },
  {
   "cell_type": "code",
   "execution_count": null,
   "id": "fc451297",
   "metadata": {
    "ExecuteTime": {
     "end_time": "2021-12-04T19:12:57.132503Z",
     "start_time": "2021-12-04T19:12:07.947Z"
    },
    "hidden": true
   },
   "outputs": [],
   "source": [
    "# Creating a new data frame with the new colum\n",
    "\n",
    "df_f1 = df_group.groupby(['SEXO','SECCIONAL_CIRC', 'idades', 'perfil_racial']).size().reset_index()\n",
    "df_f1.tail(50)"
   ]
  },
  {
   "cell_type": "code",
   "execution_count": null,
   "id": "ecb077e4",
   "metadata": {
    "ExecuteTime": {
     "end_time": "2021-12-04T19:12:57.135502Z",
     "start_time": "2021-12-04T19:12:07.951Z"
    },
    "hidden": true
   },
   "outputs": [],
   "source": [
    "df.columns"
   ]
  },
  {
   "cell_type": "code",
   "execution_count": null,
   "id": "ccc84a8d",
   "metadata": {
    "ExecuteTime": {
     "end_time": "2021-12-04T19:12:57.138499Z",
     "start_time": "2021-12-04T19:12:07.957Z"
    },
    "hidden": true
   },
   "outputs": [],
   "source": [
    "indexNames = df[(df['SECCIONAL_CIRC'].isin(['DEL.SEC.CARAPICUIBA', 'DEL.SEC.DIADEMA','DEL.SEC.FRANCO DA ROCHA',\n",
    "                                               'DEL.SEC.GUARULHOS', 'DEL.SEC.MOGI DAS CRUZES', 'DEL.SEC.OSASCO', 'DEL.SEC.S.BERNARDO DO CAMPO',\n",
    "                                               'DEL.SEC.S.JOSE DO RIO PRETO', 'DEL.SEC.SANTO ANDRÉ', 'DEL.SEC.TABOÃO DA SERRA'])) \n",
    "                                               | (df['CIDADE'] != 'S.PAULO')].index\n",
    "df_sp = df.drop(indexNames)\n",
    "df_sp['SECCIONAL_CIRC'].value_counts()"
   ]
  },
  {
   "cell_type": "code",
   "execution_count": null,
   "id": "0cc7b69f",
   "metadata": {
    "ExecuteTime": {
     "end_time": "2021-12-04T19:12:57.141502Z",
     "start_time": "2021-12-04T19:12:07.963Z"
    },
    "hidden": true
   },
   "outputs": [],
   "source": [
    "df_sp['SECCIONAL_CIRC'].value_counts()"
   ]
  },
  {
   "cell_type": "code",
   "execution_count": null,
   "id": "6d777a02",
   "metadata": {
    "ExecuteTime": {
     "end_time": "2021-12-04T19:12:57.145495Z",
     "start_time": "2021-12-04T19:12:07.969Z"
    },
    "hidden": true
   },
   "outputs": [],
   "source": [
    "# Create target and explicative variables \n",
    "X = df_f[['ANO']]\n",
    "y = df_f['ANO']\n",
    "\n",
    "# Instantiating model/creating LinearRegression class\n",
    "model = LinearRegression()\n",
    "\n",
    "# Training model (inserting our data into the model and generating model.coef_ and model.intercept_)\n",
    "model.fit(X,y)\n",
    "\n",
    "# Predict values for X and y\n",
    "# model.predict(X)\n",
    "\n",
    "# Analyse model's quality with R2\n",
    "# r2_score"
   ]
  },
  {
   "cell_type": "code",
   "execution_count": null,
   "id": "097f6eef",
   "metadata": {
    "ExecuteTime": {
     "end_time": "2021-12-04T19:12:57.149495Z",
     "start_time": "2021-12-04T19:12:07.983Z"
    },
    "hidden": true
   },
   "outputs": [],
   "source": [
    "df1['COR'].value_counts()"
   ]
  },
  {
   "cell_type": "code",
   "execution_count": null,
   "id": "ac9104ac",
   "metadata": {
    "ExecuteTime": {
     "end_time": "2021-12-04T19:12:57.158487Z",
     "start_time": "2021-12-04T19:12:08.007Z"
    },
    "hidden": true
   },
   "outputs": [],
   "source": [
    "sns.scatterplot(x = 'COR', y = 'ANO', data = df1)\n",
    "plt.show()"
   ]
  },
  {
   "cell_type": "markdown",
   "id": "bc9ef94c",
   "metadata": {
    "hidden": true
   },
   "source": []
  }
 ],
 "metadata": {
  "interpreter": {
   "hash": "b7cd918aad383750d594aa110fde4dcb8aec82540a8a04ca9dcdbba63833d477"
  },
  "kernelspec": {
   "display_name": "Python 3",
   "language": "python",
   "name": "python3"
  },
  "language_info": {
   "codemirror_mode": {
    "name": "ipython",
    "version": 3
   },
   "file_extension": ".py",
   "mimetype": "text/x-python",
   "name": "python",
   "nbconvert_exporter": "python",
   "pygments_lexer": "ipython3",
   "version": "3.8.8"
  },
  "toc": {
   "base_numbering": 1,
   "nav_menu": {},
   "number_sections": true,
   "sideBar": true,
   "skip_h1_title": false,
   "title_cell": "Table of Contents",
   "title_sidebar": "Contents",
   "toc_cell": false,
   "toc_position": {},
   "toc_section_display": true,
   "toc_window_display": false
  },
  "varInspector": {
   "cols": {
    "lenName": 16,
    "lenType": 16,
    "lenVar": 40
   },
   "kernels_config": {
    "python": {
     "delete_cmd_postfix": "",
     "delete_cmd_prefix": "del ",
     "library": "var_list.py",
     "varRefreshCmd": "print(var_dic_list())"
    },
    "r": {
     "delete_cmd_postfix": ") ",
     "delete_cmd_prefix": "rm(",
     "library": "var_list.r",
     "varRefreshCmd": "cat(var_dic_list()) "
    }
   },
   "types_to_exclude": [
    "module",
    "function",
    "builtin_function_or_method",
    "instance",
    "_Feature"
   ],
   "window_display": false
  }
 },
 "nbformat": 4,
 "nbformat_minor": 5
}
